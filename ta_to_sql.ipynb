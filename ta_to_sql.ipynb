{
 "cells": [
  {
   "cell_type": "code",
   "execution_count": 10,
   "metadata": {},
   "outputs": [
    {
     "data": {
      "text/plain": [
       "115856"
      ]
     },
     "execution_count": 10,
     "metadata": {},
     "output_type": "execute_result"
    }
   ],
   "source": [
    "from sqlalchemy import create_engine, text\n",
    "import pandas as pd\n",
    "import pymysql\n",
    "import os\n",
    "import urllib.parse\n",
    "\n",
    "# Define your MySQL connection parameters\n",
    "pw = os.getenv('sql_key')\n",
    "pw = urllib.parse.quote_plus(pw)  \n",
    "connection_string = 'mysql+pymysql://root:' + pw + '@localhost:3306/'\n",
    "\n",
    "# Create the engine\n",
    "engine = create_engine(connection_string)\n",
    "\n",
    "# Establish a raw connection to MySQL using pymysql\n",
    "with engine.connect().execution_options(autocommit=True) as con:\n",
    "    # Execute a raw SQL query to create the 'TA' database\n",
    "    con.execute(text(\"CREATE DATABASE IF NOT EXISTS TA\"))\n",
    "\n",
    "# Now, use the 'TA' database for further operations\n",
    "connection_string_with_db = 'mysql+pymysql://root:' + pw + '@localhost:3306/TA'\n",
    "engine_with_db = create_engine(connection_string_with_db)\n",
    "\n",
    "# Load your DataFrame from CSV\n",
    "df_updated = pd.read_csv('cleaned_reviews.csv')\n",
    "\n",
    "# Write the DataFrame to the 'reviews' table in the 'TA' database\n",
    "df_updated.to_sql(name='reviews', con=engine_with_db, index=False, if_exists='replace')\n"
   ]
  }
 ],
 "metadata": {
  "kernelspec": {
   "display_name": "Python 3",
   "language": "python",
   "name": "python3"
  },
  "language_info": {
   "codemirror_mode": {
    "name": "ipython",
    "version": 3
   },
   "file_extension": ".py",
   "mimetype": "text/x-python",
   "name": "python",
   "nbconvert_exporter": "python",
   "pygments_lexer": "ipython3",
   "version": "3.9.6"
  }
 },
 "nbformat": 4,
 "nbformat_minor": 2
}
